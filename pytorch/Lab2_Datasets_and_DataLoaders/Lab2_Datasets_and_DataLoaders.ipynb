{
 "cells": [
  {
   "cell_type": "markdown",
   "id": "614deeca-3641-4b4d-ade7-cd44bdf79490",
   "metadata": {},
   "source": [
    "# Datasets & DataLoaders\n",
    "\n",
    "- 데이터 샘플을 처리하는 데이터셋 코드는 지저분하고 유지보수가 어려울 수 있으므로 모델 학습 코드와 분리하는 것이 이상적이다.\n",
    "- PyTorch 는 torch.utils.data.DataLoader 와 torch.utils.data.Dataset 의 두 가지 데이터 기본 요소를 제공하며 이를 통해 미리 준비해둔(pre-loaded) 데이터셋 뿐만 아니라 가지고 있는 데이터를 사용할 수 있도록 한다.\n",
    "- Dataset은 샘플과 정답(label)을 저장하고 DataLoader 는 Dataset 을 샘플에 쉽게 접근할 수 있도록 순회 가능한 객체(iterable)로 감싼다."
   ]
  },
  {
   "cell_type": "code",
   "execution_count": null,
   "id": "28ebcb55-24fb-41ed-8089-b5f81c1593f6",
   "metadata": {},
   "outputs": [],
   "source": []
  }
 ],
 "metadata": {
  "kernelspec": {
   "display_name": "Python 3 (ipykernel)",
   "language": "python",
   "name": "python3"
  },
  "language_info": {
   "codemirror_mode": {
    "name": "ipython",
    "version": 3
   },
   "file_extension": ".py",
   "mimetype": "text/x-python",
   "name": "python",
   "nbconvert_exporter": "python",
   "pygments_lexer": "ipython3",
   "version": "3.9.19"
  }
 },
 "nbformat": 4,
 "nbformat_minor": 5
}
