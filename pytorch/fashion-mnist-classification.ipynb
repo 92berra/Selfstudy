{
 "cells": [
  {
   "cell_type": "markdown",
   "id": "55214abc-e889-497a-926a-17a8c72e351c",
   "metadata": {},
   "source": [
    "# Import"
   ]
  },
  {
   "cell_type": "code",
   "execution_count": 2,
   "id": "e4658e84-abdb-48a6-9969-8ae9870f28f8",
   "metadata": {},
   "outputs": [],
   "source": [
    "import torch\n",
    "import torchvision\n",
    "import torchvision.transforms as transforms"
   ]
  },
  {
   "cell_type": "markdown",
   "id": "6a47cf2d-70bb-405b-8546-4d04f956ae85",
   "metadata": {},
   "source": [
    "# Datasets"
   ]
  },
  {
   "cell_type": "code",
   "execution_count": 3,
   "id": "bed1a8ed-cc0c-4ecd-8bd0-d9c01eb269d0",
   "metadata": {},
   "outputs": [
    {
     "name": "stdout",
     "output_type": "stream",
     "text": [
      "Downloading http://fashion-mnist.s3-website.eu-central-1.amazonaws.com/train-images-idx3-ubyte.gz\n",
      "Downloading http://fashion-mnist.s3-website.eu-central-1.amazonaws.com/train-images-idx3-ubyte.gz to ./data/FashionMNIST/raw/train-images-idx3-ubyte.gz\n"
     ]
    },
    {
     "name": "stderr",
     "output_type": "stream",
     "text": [
      "100.0%\n"
     ]
    },
    {
     "name": "stdout",
     "output_type": "stream",
     "text": [
      "Extracting ./data/FashionMNIST/raw/train-images-idx3-ubyte.gz to ./data/FashionMNIST/raw\n",
      "\n",
      "Downloading http://fashion-mnist.s3-website.eu-central-1.amazonaws.com/train-labels-idx1-ubyte.gz\n",
      "Downloading http://fashion-mnist.s3-website.eu-central-1.amazonaws.com/train-labels-idx1-ubyte.gz to ./data/FashionMNIST/raw/train-labels-idx1-ubyte.gz\n"
     ]
    },
    {
     "name": "stderr",
     "output_type": "stream",
     "text": [
      "100.0%\n"
     ]
    },
    {
     "name": "stdout",
     "output_type": "stream",
     "text": [
      "Extracting ./data/FashionMNIST/raw/train-labels-idx1-ubyte.gz to ./data/FashionMNIST/raw\n",
      "\n",
      "Downloading http://fashion-mnist.s3-website.eu-central-1.amazonaws.com/t10k-images-idx3-ubyte.gz\n",
      "Downloading http://fashion-mnist.s3-website.eu-central-1.amazonaws.com/t10k-images-idx3-ubyte.gz to ./data/FashionMNIST/raw/t10k-images-idx3-ubyte.gz\n"
     ]
    },
    {
     "name": "stderr",
     "output_type": "stream",
     "text": [
      "100.0%\n"
     ]
    },
    {
     "name": "stdout",
     "output_type": "stream",
     "text": [
      "Extracting ./data/FashionMNIST/raw/t10k-images-idx3-ubyte.gz to ./data/FashionMNIST/raw\n",
      "\n",
      "Downloading http://fashion-mnist.s3-website.eu-central-1.amazonaws.com/t10k-labels-idx1-ubyte.gz\n",
      "Downloading http://fashion-mnist.s3-website.eu-central-1.amazonaws.com/t10k-labels-idx1-ubyte.gz to ./data/FashionMNIST/raw/t10k-labels-idx1-ubyte.gz\n"
     ]
    },
    {
     "name": "stderr",
     "output_type": "stream",
     "text": [
      "100.0%"
     ]
    },
    {
     "name": "stdout",
     "output_type": "stream",
     "text": [
      "Extracting ./data/FashionMNIST/raw/t10k-labels-idx1-ubyte.gz to ./data/FashionMNIST/raw\n",
      "\n"
     ]
    },
    {
     "name": "stderr",
     "output_type": "stream",
     "text": [
      "\n"
     ]
    }
   ],
   "source": [
    "transform = transforms.Compose([transforms.ToTensor(), \\\n",
    "                               transforms.Normalize((0.5,), (0.5,))])\n",
    "trainset = torchvision.datasets.FashionMNIST(root='./data', train=True, download=True, transform=transform)\n",
    "trainloader = torch.utils.data.DataLoader(trainset, batch_size=64, shuffle=True)\n",
    "\n",
    "testset = torchvision.datasets.FashionMNIST(root='./data', train=False, download=True, transform=transform)\n",
    "testloader = torch.utils.data.DataLoader(testset, batch_size=64, shuffle=False)"
   ]
  },
  {
   "cell_type": "markdown",
   "id": "8b2f49f6-17a0-4aa4-9997-355f57f36019",
   "metadata": {},
   "source": [
    "# Neural Network Model"
   ]
  },
  {
   "cell_type": "code",
   "execution_count": 6,
   "id": "a0672601-0e21-4c20-adc5-d735456ccab7",
   "metadata": {},
   "outputs": [],
   "source": [
    "import torch.nn as nn\n",
    "import torch.nn.functional as F\n",
    "\n",
    "class Net(nn.Module):\n",
    "    def __init__(self):\n",
    "        super(Net, self).__init__()\n",
    "        self.fc1 = nn.Linear(28 * 28, 500)\n",
    "        self.fc2 = nn.Linear(500, 10)\n",
    "\n",
    "    def forward(self, x):\n",
    "        x = x.view(-1, 28 * 28)\n",
    "        x = F.relu(self.fc1(x))\n",
    "        x = self.fc2(x)\n",
    "        return x\n",
    "\n",
    "net = Net()"
   ]
  },
  {
   "cell_type": "markdown",
   "id": "220d4997-0cbe-448a-b3fa-0d350862f34b",
   "metadata": {},
   "source": [
    "# Loss Function and Optimizer"
   ]
  },
  {
   "cell_type": "code",
   "execution_count": 7,
   "id": "0891852f-24fd-491e-97b2-6ed7d6360c6e",
   "metadata": {},
   "outputs": [],
   "source": [
    "import torch.optim as optim\n",
    "\n",
    "criterion = nn.CrossEntropyLoss()\n",
    "optimizer = optim.SGD(net.parameters(), lr=0.01, momentum=0.9)"
   ]
  },
  {
   "cell_type": "markdown",
   "id": "f61916f8-939a-4295-af7a-8da01ad72b5c",
   "metadata": {},
   "source": [
    "# Train"
   ]
  },
  {
   "cell_type": "code",
   "execution_count": 10,
   "id": "3420a7de-c47d-4d92-a022-88b163b9395e",
   "metadata": {},
   "outputs": [
    {
     "name": "stdout",
     "output_type": "stream",
     "text": [
      "[Epoch 1, Mini-batch 100] Loss: 0.903\n",
      "[Epoch 1, Mini-batch 200] Loss: 0.533\n",
      "[Epoch 1, Mini-batch 300] Loss: 0.511\n",
      "[Epoch 1, Mini-batch 400] Loss: 0.483\n",
      "[Epoch 1, Mini-batch 500] Loss: 0.474\n",
      "[Epoch 1, Mini-batch 600] Loss: 0.462\n",
      "[Epoch 1, Mini-batch 700] Loss: 0.451\n",
      "[Epoch 1, Mini-batch 800] Loss: 0.414\n",
      "[Epoch 1, Mini-batch 900] Loss: 0.440\n",
      "[Epoch 2, Mini-batch 100] Loss: 0.383\n",
      "[Epoch 2, Mini-batch 200] Loss: 0.397\n",
      "[Epoch 2, Mini-batch 300] Loss: 0.381\n",
      "[Epoch 2, Mini-batch 400] Loss: 0.386\n",
      "[Epoch 2, Mini-batch 500] Loss: 0.385\n",
      "[Epoch 2, Mini-batch 600] Loss: 0.363\n",
      "[Epoch 2, Mini-batch 700] Loss: 0.384\n",
      "[Epoch 2, Mini-batch 800] Loss: 0.377\n",
      "[Epoch 2, Mini-batch 900] Loss: 0.378\n",
      "[Epoch 3, Mini-batch 100] Loss: 0.342\n",
      "[Epoch 3, Mini-batch 200] Loss: 0.350\n",
      "[Epoch 3, Mini-batch 300] Loss: 0.353\n",
      "[Epoch 3, Mini-batch 400] Loss: 0.331\n",
      "[Epoch 3, Mini-batch 500] Loss: 0.343\n",
      "[Epoch 3, Mini-batch 600] Loss: 0.336\n",
      "[Epoch 3, Mini-batch 700] Loss: 0.323\n",
      "[Epoch 3, Mini-batch 800] Loss: 0.343\n",
      "[Epoch 3, Mini-batch 900] Loss: 0.347\n",
      "[Epoch 4, Mini-batch 100] Loss: 0.316\n",
      "[Epoch 4, Mini-batch 200] Loss: 0.311\n",
      "[Epoch 4, Mini-batch 300] Loss: 0.327\n",
      "[Epoch 4, Mini-batch 400] Loss: 0.307\n",
      "[Epoch 4, Mini-batch 500] Loss: 0.320\n",
      "[Epoch 4, Mini-batch 600] Loss: 0.315\n",
      "[Epoch 4, Mini-batch 700] Loss: 0.343\n",
      "[Epoch 4, Mini-batch 800] Loss: 0.306\n",
      "[Epoch 4, Mini-batch 900] Loss: 0.295\n",
      "[Epoch 5, Mini-batch 100] Loss: 0.315\n",
      "[Epoch 5, Mini-batch 200] Loss: 0.286\n",
      "[Epoch 5, Mini-batch 300] Loss: 0.291\n",
      "[Epoch 5, Mini-batch 400] Loss: 0.285\n",
      "[Epoch 5, Mini-batch 500] Loss: 0.313\n",
      "[Epoch 5, Mini-batch 600] Loss: 0.299\n",
      "[Epoch 5, Mini-batch 700] Loss: 0.293\n",
      "[Epoch 5, Mini-batch 800] Loss: 0.296\n",
      "[Epoch 5, Mini-batch 900] Loss: 0.299\n",
      "[Epoch 6, Mini-batch 100] Loss: 0.283\n",
      "[Epoch 6, Mini-batch 200] Loss: 0.298\n",
      "[Epoch 6, Mini-batch 300] Loss: 0.279\n",
      "[Epoch 6, Mini-batch 400] Loss: 0.290\n",
      "[Epoch 6, Mini-batch 500] Loss: 0.282\n",
      "[Epoch 6, Mini-batch 600] Loss: 0.275\n",
      "[Epoch 6, Mini-batch 700] Loss: 0.284\n",
      "[Epoch 6, Mini-batch 800] Loss: 0.286\n",
      "[Epoch 6, Mini-batch 900] Loss: 0.272\n",
      "[Epoch 7, Mini-batch 100] Loss: 0.270\n",
      "[Epoch 7, Mini-batch 200] Loss: 0.279\n",
      "[Epoch 7, Mini-batch 300] Loss: 0.270\n",
      "[Epoch 7, Mini-batch 400] Loss: 0.267\n",
      "[Epoch 7, Mini-batch 500] Loss: 0.267\n",
      "[Epoch 7, Mini-batch 600] Loss: 0.260\n",
      "[Epoch 7, Mini-batch 700] Loss: 0.255\n",
      "[Epoch 7, Mini-batch 800] Loss: 0.267\n",
      "[Epoch 7, Mini-batch 900] Loss: 0.262\n",
      "[Epoch 8, Mini-batch 100] Loss: 0.262\n",
      "[Epoch 8, Mini-batch 200] Loss: 0.256\n",
      "[Epoch 8, Mini-batch 300] Loss: 0.261\n",
      "[Epoch 8, Mini-batch 400] Loss: 0.248\n",
      "[Epoch 8, Mini-batch 500] Loss: 0.256\n",
      "[Epoch 8, Mini-batch 600] Loss: 0.251\n",
      "[Epoch 8, Mini-batch 700] Loss: 0.263\n",
      "[Epoch 8, Mini-batch 800] Loss: 0.259\n",
      "[Epoch 8, Mini-batch 900] Loss: 0.269\n",
      "[Epoch 9, Mini-batch 100] Loss: 0.231\n",
      "[Epoch 9, Mini-batch 200] Loss: 0.248\n",
      "[Epoch 9, Mini-batch 300] Loss: 0.253\n",
      "[Epoch 9, Mini-batch 400] Loss: 0.250\n",
      "[Epoch 9, Mini-batch 500] Loss: 0.240\n",
      "[Epoch 9, Mini-batch 600] Loss: 0.246\n",
      "[Epoch 9, Mini-batch 700] Loss: 0.263\n",
      "[Epoch 9, Mini-batch 800] Loss: 0.257\n",
      "[Epoch 9, Mini-batch 900] Loss: 0.258\n",
      "[Epoch 10, Mini-batch 100] Loss: 0.234\n",
      "[Epoch 10, Mini-batch 200] Loss: 0.234\n",
      "[Epoch 10, Mini-batch 300] Loss: 0.238\n",
      "[Epoch 10, Mini-batch 400] Loss: 0.223\n",
      "[Epoch 10, Mini-batch 500] Loss: 0.244\n",
      "[Epoch 10, Mini-batch 600] Loss: 0.261\n",
      "[Epoch 10, Mini-batch 700] Loss: 0.249\n",
      "[Epoch 10, Mini-batch 800] Loss: 0.241\n",
      "[Epoch 10, Mini-batch 900] Loss: 0.231\n",
      "Finished Training\n"
     ]
    }
   ],
   "source": [
    "for epoch in range(10):\n",
    "    running_loss = 0.0\n",
    "    for i, data in enumerate(trainloader, 0):\n",
    "        inputs, labels = data\n",
    "\n",
    "        optimizer.zero_grad()\n",
    "\n",
    "        outputs = net(inputs)\n",
    "        loss = criterion(outputs, labels)\n",
    "        loss.backward()\n",
    "        optimizer.step()\n",
    "\n",
    "        running_loss += loss.item()\n",
    "        if i % 100 == 99:\n",
    "            print(f'[Epoch {epoch + 1}, Mini-batch {i + 1}] Loss: {running_loss / 100:.3f}')\n",
    "            running_loss = 0.0\n",
    "\n",
    "print('Finished Training')"
   ]
  },
  {
   "cell_type": "markdown",
   "id": "39ae662d-261c-45e4-9f23-2785d0bf0a5d",
   "metadata": {},
   "source": [
    "# Evaluation"
   ]
  },
  {
   "cell_type": "code",
   "execution_count": 11,
   "id": "17791d4a-4a9a-41a2-8adf-6c6afda167a0",
   "metadata": {},
   "outputs": [
    {
     "name": "stdout",
     "output_type": "stream",
     "text": [
      "Accuracy of the network on the 10000 test images: 88.45%\n"
     ]
    }
   ],
   "source": [
    "correct = 0\n",
    "total = 0\n",
    "\n",
    "with torch.no_grad():\n",
    "    for data in testloader:\n",
    "        images, labels = data\n",
    "        outputs = net(images)\n",
    "        _, predicted = torch.max(outputs.data, 1)\n",
    "        total += labels.size(0)\n",
    "        correct += (predicted == labels).sum().item()\n",
    "\n",
    "print(f'Accuracy of the network on the 10000 test images: {100 * correct / total:.2f}%')"
   ]
  },
  {
   "cell_type": "code",
   "execution_count": null,
   "id": "cb45d9b8-b6bd-4117-b60d-95cfbf2f703f",
   "metadata": {},
   "outputs": [],
   "source": []
  }
 ],
 "metadata": {
  "kernelspec": {
   "display_name": "Python 3.9 (pytorch)",
   "language": "python",
   "name": "pytorch"
  },
  "language_info": {
   "codemirror_mode": {
    "name": "ipython",
    "version": 3
   },
   "file_extension": ".py",
   "mimetype": "text/x-python",
   "name": "python",
   "nbconvert_exporter": "python",
   "pygments_lexer": "ipython3",
   "version": "3.9.19"
  }
 },
 "nbformat": 4,
 "nbformat_minor": 5
}
